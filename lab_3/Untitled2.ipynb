{
  "metadata": {
    "kernelspec": {
      "name": "python",
      "display_name": "Python (Pyodide)",
      "language": "python"
    },
    "language_info": {
      "codemirror_mode": {
        "name": "python",
        "version": 3
      },
      "file_extension": ".py",
      "mimetype": "text/x-python",
      "name": "python",
      "nbconvert_exporter": "python",
      "pygments_lexer": "ipython3",
      "version": "3.8"
    }
  },
  "nbformat_minor": 5,
  "nbformat": 4,
  "cells": [
    {
      "id": "26d6d86d-91c1-4aa2-ad87-df467d11bb4c",
      "cell_type": "markdown",
      "source": "## 9. Записать теорему о разложении функции в окрестности точке по формуле Тейлора.\n   \nДля функции $$f(x)=ln(1+sin(x^2))-tg(x^2)$$\nнайти функцию вида $Cx^n$ , эквивалентную функции $f(x)$ при  $x\\rightarrow0$.\nПусть функция $f(x)$ имеет $n$-ю производную в окрестности точки $x_0$. Тогда в этой окрестности функция разлагается в ряд Тейлора:\n$$f(x)=f(x_0)+f'(x_0)(x-x_0)+\\frac{f''(x_0)}{2!}(x-x_0)^2+...+\\frac{f^n(x_0)}{n!}(x-x_0)^n+R_n(x)$$\nгде остаточный член в форме Лагранжа:\n$$R_n(x)=\\frac{f^{n+1}(\\xi)}{n+1!}(x-x_0)^{n+1}$$, для некоторого $\\xi\\in(x_0,x)$\nЕсли ряд Тейлора сходится к $f(x)$, то он называется разложением функции в окрестности точки $x_0$.",
      "metadata": {}
    },
    {
      "id": "af6b0c42-5208-4340-ab3f-c03e169677a6",
      "cell_type": "code",
      "source": "import sympy as sp\n\nx = sp.Symbol('x')\nf = sp.ln(1 + sp.sin(x**2)) - sp.tan(x**2)\ntaylor_expansion = sp.series(f, x, 0, 6).removeO()\nmain_term = taylor_expansion.as_leading_term(x)\n\nn = sp.degree(main_term, x)\nC = main_term.coeff(x, n)\n\nprint(\"Разложение Тейлора до порядка x^6:\",taylor_expansion)\nprint(f\"\\nГлавный член: {main_term}\")\nprint(f\"\\nЭквивалентная функция при x→0: {C}·x^{n}\")\n",
      "metadata": {
        "trusted": true
      },
      "outputs": [],
      "execution_count": null
    },
    {
      "id": "8d760a85-b046-4061-9797-2487a845bbb4",
      "cell_type": "markdown",
      "source": "# 1. Определяем функцию\n```python\nf = sp.ln(1 + sp.sin(x**2)) - sp.tan(x**2)\n```\n\n# 2. Разложение в ряд Тейлора до x^6\n```python\ntaylor_expansion = sp.series(f, x, 0, 6).removeO()\n```\n\n# 3. Извлекаем главный член \n```python\nmain_term = taylor_expansion.as_leading_term(x)\n```\n\n# 4. Определяем степень и коэффициент\n```python\nn = sp.degree(main_term, x)\nC = main_term.coeff(x, n)\n```",
      "metadata": {}
    },
    {
      "id": "9d95eec1-9415-4822-8d06-68a8ca228d1a",
      "cell_type": "markdown",
      "source": "Разложение функции в окрестности нуля — это именно то, что делает ```python series(f, x, 0, 6)```: находит первые несколько членов ряда Тейлора при $x\\rightarrow0$.\n\n```python removeO() ``` удаляет остаточный член $𝑂(𝑥^6)$ , чтобы осталась только конечная сумма, с которой можно работать.\n\n```pythonas_leading_term(x)``` находит наименьший по степени ненулевой член разложения — он и есть наш главный, ведущий член, определяющий поведение функции при \n$x\\rightarrow0$ .\n\n```pythondegree(main_term, x) и coeff(x, n)``` извлекают соответственно степень \n𝑛 и коэффициент $𝐶$, чтобы записать эквивалентную функцию \n$𝐶 𝑥^𝑛$\n\n .\n\n",
      "metadata": {}
    },
    {
      "id": "1a5a6232-f6a6-439d-986a-37bcccd0328a",
      "cell_type": "code",
      "source": "",
      "metadata": {
        "trusted": true
      },
      "outputs": [],
      "execution_count": null
    }
  ]
}