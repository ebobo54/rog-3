{
  "metadata": {
    "kernelspec": {
      "name": "python",
      "display_name": "Python (Pyodide)",
      "language": "python"
    },
    "language_info": {
      "codemirror_mode": {
        "name": "python",
        "version": 3
      },
      "file_extension": ".py",
      "mimetype": "text/x-python",
      "name": "python",
      "nbconvert_exporter": "python",
      "pygments_lexer": "ipython3",
      "version": "3.8"
    }
  },
  "nbformat_minor": 5,
  "nbformat": 4,
  "cells": [
    {
      "id": "26d6d86d-91c1-4aa2-ad87-df467d11bb4c",
      "cell_type": "markdown",
      "source": "## 9. Записать теорему о разложении функции в окрестности точке по формуле Тейлора.\n   \nДля функции $$f(x)=ln(1+sin(x^2))-tg(x^2)$$\nнайти функцию вида $Cx^n$ , эквивалентную функции $f(x)$ при  $x\\rightarrow0$.\nПусть функция $f(x)$ имеет $n$-ю производную в окрестности точки $x_0$. Тогда в этой окрестности функция разлагается в ряд Тейлора:\n$$f(x)=f(x_0)+f'(x_0)(x-x_0)+\\frac{f''(x_0)}{2!}(x-x_0)^2+...+\\frac{f^n(x_0)}{n!}(x-x_0)^n+R_n(x)$$\nгде остаточный член в форме Лагранжа:\n$$R_n(x)=\\frac{f^{n+1}(\\xi)}{n+1!}(x-x_0)^{n+1}$$, для некоторого $\\xi\\in(x_0,x)$\nЕсли ряд Тейлора сходится к $f(x)$, то он называется разложением функции в окрестности точки $x_0$.",
      "metadata": {}
    },
    {
      "id": "7ea5d6d9-681b-4fe5-a6bc-86d48acf4548",
      "cell_type": "markdown",
      "source": "\n",
      "metadata": {}
    },
    {
      "id": "af6b0c42-5208-4340-ab3f-c03e169677a6",
      "cell_type": "code",
      "source": "import sympy as sp\nfrom sympy import*\n\nx = sp.Symbol('x')\nf = ln(1 + sin(x**2)) - tan(x**2)\ntaylor_expansion = series(f, x, 0, n=4).removeO()\nmain_term = taylor_expansion.as_leading_term(x)\nC_approx = main_term.coeff(x, 2).evalf()\n\nprint(\"Ряд Тейлора до членов порядка x^4:\", taylor_expansion)\nprint(\"Главный член:\", main_term)\nprint(f\"Приближенное значение C: {C_approx}\")\n",
      "metadata": {
        "trusted": true
      },
      "outputs": [
        {
          "name": "stdout",
          "output_type": "stream",
          "text": "Ряд Тейлора до членов порядка x^4: 0\nГлавный член: 0\nПриближенное значение C: 0\n"
        }
      ],
      "execution_count": 2
    },
    {
      "id": "1e5f2c99-5381-4973-9328-a3f60fc18df7",
      "cell_type": "code",
      "source": "",
      "metadata": {
        "trusted": true
      },
      "outputs": [],
      "execution_count": null
    }
  ]
}