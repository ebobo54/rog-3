{
  "metadata": {
    "kernelspec": {
      "name": "python",
      "display_name": "Python (Pyodide)",
      "language": "python"
    },
    "language_info": {
      "codemirror_mode": {
        "name": "python",
        "version": 3
      },
      "file_extension": ".py",
      "mimetype": "text/x-python",
      "name": "python",
      "nbconvert_exporter": "python",
      "pygments_lexer": "ipython3",
      "version": "3.8"
    }
  },
  "nbformat_minor": 5,
  "nbformat": 4,
  "cells": [
    {
      "id": "0719b42e-b63e-4e36-863a-55e6b6998cac",
      "cell_type": "markdown",
      "source": "## 4. Записать определения пределов функции слева и справа в точке $x_0$ .\nНайти числа $A$ и $B$ так, чтобы функция\n\n$$ f(x) = \\begin{cases} \nA\\frac{xarctg(sinx)}{(sin(x^2)+1-cosx)}, & x < 0 \\\\\nB, & x = 0 \\\\\n\\frac{ln(1+tgx)}{sin\\sqrt{x} arcsin\\sqrt{x}}, & x > 0\n\\end{cases} $$\nбыла непрерывна в точке $x=0$ .\nОпределения пределов функции слева и справа в точке $x_0$ .\nЧисло $A_1$ называется пределом функции $f(x)$ слева в точке a, если для каждого $\\epsilon > 0$ существует $\\delta>0$ такое, что для всех  $x\\in(\\alpha - \\delta; \\alpha)$ выполняется неравенство $\\left| f(x)-A_1\\right|<\\epsilon$\nЧисло $A_2$ называется пределом функции $f(x)$ справа в точке a, если для каждого $\\epsilon > 0$ существует $\\delta>0$ такое, что для всех  $x\\in(\\alpha ; \\alpha + \\delta)$ выполняется неравенство $\\left| f(x)-A_2\\right|<\\epsilon$",
      "metadata": {}
    },
    {
      "id": "0cee3dec-447a-4b83-8090-35257c390400",
      "cell_type": "code",
      "source": "import sympy as sp\nfrom sympy import*\n\nx = sp.Symbol('x')\nA, B = sp.symbols('A B')\nf_left = A * x * atan(sin(x)) / (sin(x**2) + 1 - cos(x))\nf_right = ln(1 + tan(x)) / (sin(sqrt(x)) * asin(sqrt(x)))\nlimit_left = limit(f_left, x, 0, dir='-')\nlimit_right = limit(f_right, x, 0, dir='+')\neq1 = sp.Eq(limit_left, B)\neq2 = sp.Eq(limit_right, B)\n\nsolution = sp.solve([eq1, eq2], (A, B))\nsolution[A], solution[B]",
      "metadata": {
        "trusted": true
      },
      "outputs": [
        {
          "execution_count": 2,
          "output_type": "execute_result",
          "data": {
            "text/plain": "(3/2, 1)"
          },
          "metadata": {}
        }
      ],
      "execution_count": 2
    },
    {
      "id": "25168c8b-bcbe-4ec5-aafa-9217ac44022f",
      "cell_type": "code",
      "source": "",
      "metadata": {
        "trusted": true
      },
      "outputs": [],
      "execution_count": null
    },
    {
      "id": "a6fd448d-35a0-4d5b-a1ee-b6bcd4efedaa",
      "cell_type": "code",
      "source": "",
      "metadata": {
        "trusted": true
      },
      "outputs": [],
      "execution_count": null
    }
  ]
}